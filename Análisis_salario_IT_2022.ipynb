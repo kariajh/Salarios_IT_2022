{
  "nbformat": 4,
  "nbformat_minor": 0,
  "metadata": {
    "colab": {
      "provenance": [],
      "authorship_tag": "ABX9TyPMsE8yyBNtvLdHvQcQb21T",
      "include_colab_link": true
    },
    "kernelspec": {
      "name": "python3",
      "display_name": "Python 3"
    },
    "language_info": {
      "name": "python"
    }
  },
  "cells": [
    {
      "cell_type": "markdown",
      "metadata": {
        "id": "view-in-github",
        "colab_type": "text"
      },
      "source": [
        "<a href=\"https://colab.research.google.com/github/kariajh/Salarios_IT_2022/blob/main/An%C3%A1lisis_salario_IT_2022.ipynb\" target=\"_parent\"><img src=\"https://colab.research.google.com/assets/colab-badge.svg\" alt=\"Open In Colab\"/></a>"
      ]
    },
    {
      "cell_type": "markdown",
      "source": [
        "# **Analisis de salario mensual neto**"
      ],
      "metadata": {
        "id": "mwPnymVpvJrX"
      }
    },
    {
      "cell_type": "markdown",
      "source": [
        "Muchos salarios ingresados no se corresponden necesariamente con datos reales. Esto puede ser debido a errores de tipeo, no entendimiento de la pregunta, o simplemente intencionales. Para evitar que estos valores distorsionen resultados, aplicamos la medida estadistica percentil para analizar valores extremos minimos y maximos. Se toma en cuenta el salario minimo para eliminar extremos minimos."
      ],
      "metadata": {
        "id": "XArG7i0xhHA8"
      }
    },
    {
      "cell_type": "markdown",
      "source": [
        "# Librerias"
      ],
      "metadata": {
        "id": "a9fBZbGPn8DE"
      }
    },
    {
      "cell_type": "code",
      "execution_count": null,
      "metadata": {
        "id": "Gy2tvCignv8_"
      },
      "outputs": [],
      "source": [
        "# Tratamiento de datos\n",
        "import numpy as np\n",
        "import pandas as pd\n",
        "from tabulate import tabulate\n",
        "import io\n",
        "import scipy\n",
        "\n",
        "# Gráficos\n",
        "import matplotlib.pyplot as plt\n",
        "from matplotlib import style\n",
        "import matplotlib.ticker as ticker\n",
        "import seaborn as sns\n",
        "import statsmodels.api as sm\n",
        "\n",
        "# Configuración matplotlib\n",
        "plt.rcParams['image.cmap'] = \"bwr\"\n",
        "#plt.rcParams['figure.dpi'] = \"100\"\n",
        "plt.rcParams['savefig.bbox'] = \"tight\"\n",
        "style.use('ggplot') or plt.style.use('ggplot')\n",
        "\n",
        "# Configuración warnings\n",
        "import warnings\n",
        "warnings.filterwarnings('ignore')"
      ]
    },
    {
      "cell_type": "markdown",
      "source": [
        "# Datos"
      ],
      "metadata": {
        "id": "fHbWHFtNoScq"
      }
    },
    {
      "cell_type": "markdown",
      "source": [
        "Se trabajará con la Encuesta Sysarmy del año 2022. Se trata de una encuesta personal y voluntaria que busca relevar información sobre salarios y condiciones de trabajo de programadores, que se realiza anualmente."
      ],
      "metadata": {
        "id": "y3CpdvjCo4Mv"
      }
    },
    {
      "cell_type": "code",
      "source": [
        "from google.colab import files\n",
        "uploaded = files.upload()"
      ],
      "metadata": {
        "colab": {
          "base_uri": "https://localhost:8080/",
          "height": 74
        },
        "id": "VtW1YJR0pHJ2",
        "outputId": "a9884d7b-45dc-473e-f9f6-f667b356d7dd"
      },
      "execution_count": null,
      "outputs": [
        {
          "output_type": "display_data",
          "data": {
            "text/plain": [
              "<IPython.core.display.HTML object>"
            ],
            "text/html": [
              "\n",
              "     <input type=\"file\" id=\"files-4a7be2d7-354c-47ee-b916-8f914381a69a\" name=\"files[]\" multiple disabled\n",
              "        style=\"border:none\" />\n",
              "     <output id=\"result-4a7be2d7-354c-47ee-b916-8f914381a69a\">\n",
              "      Upload widget is only available when the cell has been executed in the\n",
              "      current browser session. Please rerun this cell to enable.\n",
              "      </output>\n",
              "      <script>// Copyright 2017 Google LLC\n",
              "//\n",
              "// Licensed under the Apache License, Version 2.0 (the \"License\");\n",
              "// you may not use this file except in compliance with the License.\n",
              "// You may obtain a copy of the License at\n",
              "//\n",
              "//      http://www.apache.org/licenses/LICENSE-2.0\n",
              "//\n",
              "// Unless required by applicable law or agreed to in writing, software\n",
              "// distributed under the License is distributed on an \"AS IS\" BASIS,\n",
              "// WITHOUT WARRANTIES OR CONDITIONS OF ANY KIND, either express or implied.\n",
              "// See the License for the specific language governing permissions and\n",
              "// limitations under the License.\n",
              "\n",
              "/**\n",
              " * @fileoverview Helpers for google.colab Python module.\n",
              " */\n",
              "(function(scope) {\n",
              "function span(text, styleAttributes = {}) {\n",
              "  const element = document.createElement('span');\n",
              "  element.textContent = text;\n",
              "  for (const key of Object.keys(styleAttributes)) {\n",
              "    element.style[key] = styleAttributes[key];\n",
              "  }\n",
              "  return element;\n",
              "}\n",
              "\n",
              "// Max number of bytes which will be uploaded at a time.\n",
              "const MAX_PAYLOAD_SIZE = 100 * 1024;\n",
              "\n",
              "function _uploadFiles(inputId, outputId) {\n",
              "  const steps = uploadFilesStep(inputId, outputId);\n",
              "  const outputElement = document.getElementById(outputId);\n",
              "  // Cache steps on the outputElement to make it available for the next call\n",
              "  // to uploadFilesContinue from Python.\n",
              "  outputElement.steps = steps;\n",
              "\n",
              "  return _uploadFilesContinue(outputId);\n",
              "}\n",
              "\n",
              "// This is roughly an async generator (not supported in the browser yet),\n",
              "// where there are multiple asynchronous steps and the Python side is going\n",
              "// to poll for completion of each step.\n",
              "// This uses a Promise to block the python side on completion of each step,\n",
              "// then passes the result of the previous step as the input to the next step.\n",
              "function _uploadFilesContinue(outputId) {\n",
              "  const outputElement = document.getElementById(outputId);\n",
              "  const steps = outputElement.steps;\n",
              "\n",
              "  const next = steps.next(outputElement.lastPromiseValue);\n",
              "  return Promise.resolve(next.value.promise).then((value) => {\n",
              "    // Cache the last promise value to make it available to the next\n",
              "    // step of the generator.\n",
              "    outputElement.lastPromiseValue = value;\n",
              "    return next.value.response;\n",
              "  });\n",
              "}\n",
              "\n",
              "/**\n",
              " * Generator function which is called between each async step of the upload\n",
              " * process.\n",
              " * @param {string} inputId Element ID of the input file picker element.\n",
              " * @param {string} outputId Element ID of the output display.\n",
              " * @return {!Iterable<!Object>} Iterable of next steps.\n",
              " */\n",
              "function* uploadFilesStep(inputId, outputId) {\n",
              "  const inputElement = document.getElementById(inputId);\n",
              "  inputElement.disabled = false;\n",
              "\n",
              "  const outputElement = document.getElementById(outputId);\n",
              "  outputElement.innerHTML = '';\n",
              "\n",
              "  const pickedPromise = new Promise((resolve) => {\n",
              "    inputElement.addEventListener('change', (e) => {\n",
              "      resolve(e.target.files);\n",
              "    });\n",
              "  });\n",
              "\n",
              "  const cancel = document.createElement('button');\n",
              "  inputElement.parentElement.appendChild(cancel);\n",
              "  cancel.textContent = 'Cancel upload';\n",
              "  const cancelPromise = new Promise((resolve) => {\n",
              "    cancel.onclick = () => {\n",
              "      resolve(null);\n",
              "    };\n",
              "  });\n",
              "\n",
              "  // Wait for the user to pick the files.\n",
              "  const files = yield {\n",
              "    promise: Promise.race([pickedPromise, cancelPromise]),\n",
              "    response: {\n",
              "      action: 'starting',\n",
              "    }\n",
              "  };\n",
              "\n",
              "  cancel.remove();\n",
              "\n",
              "  // Disable the input element since further picks are not allowed.\n",
              "  inputElement.disabled = true;\n",
              "\n",
              "  if (!files) {\n",
              "    return {\n",
              "      response: {\n",
              "        action: 'complete',\n",
              "      }\n",
              "    };\n",
              "  }\n",
              "\n",
              "  for (const file of files) {\n",
              "    const li = document.createElement('li');\n",
              "    li.append(span(file.name, {fontWeight: 'bold'}));\n",
              "    li.append(span(\n",
              "        `(${file.type || 'n/a'}) - ${file.size} bytes, ` +\n",
              "        `last modified: ${\n",
              "            file.lastModifiedDate ? file.lastModifiedDate.toLocaleDateString() :\n",
              "                                    'n/a'} - `));\n",
              "    const percent = span('0% done');\n",
              "    li.appendChild(percent);\n",
              "\n",
              "    outputElement.appendChild(li);\n",
              "\n",
              "    const fileDataPromise = new Promise((resolve) => {\n",
              "      const reader = new FileReader();\n",
              "      reader.onload = (e) => {\n",
              "        resolve(e.target.result);\n",
              "      };\n",
              "      reader.readAsArrayBuffer(file);\n",
              "    });\n",
              "    // Wait for the data to be ready.\n",
              "    let fileData = yield {\n",
              "      promise: fileDataPromise,\n",
              "      response: {\n",
              "        action: 'continue',\n",
              "      }\n",
              "    };\n",
              "\n",
              "    // Use a chunked sending to avoid message size limits. See b/62115660.\n",
              "    let position = 0;\n",
              "    do {\n",
              "      const length = Math.min(fileData.byteLength - position, MAX_PAYLOAD_SIZE);\n",
              "      const chunk = new Uint8Array(fileData, position, length);\n",
              "      position += length;\n",
              "\n",
              "      const base64 = btoa(String.fromCharCode.apply(null, chunk));\n",
              "      yield {\n",
              "        response: {\n",
              "          action: 'append',\n",
              "          file: file.name,\n",
              "          data: base64,\n",
              "        },\n",
              "      };\n",
              "\n",
              "      let percentDone = fileData.byteLength === 0 ?\n",
              "          100 :\n",
              "          Math.round((position / fileData.byteLength) * 100);\n",
              "      percent.textContent = `${percentDone}% done`;\n",
              "\n",
              "    } while (position < fileData.byteLength);\n",
              "  }\n",
              "\n",
              "  // All done.\n",
              "  yield {\n",
              "    response: {\n",
              "      action: 'complete',\n",
              "    }\n",
              "  };\n",
              "}\n",
              "\n",
              "scope.google = scope.google || {};\n",
              "scope.google.colab = scope.google.colab || {};\n",
              "scope.google.colab._files = {\n",
              "  _uploadFiles,\n",
              "  _uploadFilesContinue,\n",
              "};\n",
              "})(self);\n",
              "</script> "
            ]
          },
          "metadata": {}
        },
        {
          "output_type": "stream",
          "name": "stdout",
          "text": [
            "Saving sysarmy_survey_2022_processed.csv to sysarmy_survey_2022_processed.csv\n"
          ]
        }
      ]
    },
    {
      "cell_type": "code",
      "source": [
        "file_key = 'sysarmy_survey_2022_processed.csv'\n",
        "df = pd.read_csv(io.StringIO(uploaded[file_key].decode('utf-8')))"
      ],
      "metadata": {
        "id": "a82Hn6L9xFRu"
      },
      "execution_count": null,
      "outputs": []
    },
    {
      "cell_type": "code",
      "source": [
        "df[:2]"
      ],
      "metadata": {
        "colab": {
          "base_uri": "https://localhost:8080/",
          "height": 292
        },
        "id": "Srh4z_2eyLxQ",
        "outputId": "24653bbc-b9bc-4f5f-e1c3-004f4f56f8ad"
      },
      "execution_count": null,
      "outputs": [
        {
          "output_type": "execute_result",
          "data": {
            "text/plain": [
              "  work_country work_province work_dedication             work_contract_type  \\\n",
              "0    Argentina     Catamarca       Full-Time      Staff (planta permanente)   \n",
              "1    Argentina         Chaco       Full-Time  Remoto (empresa de otro país)   \n",
              "\n",
              "   salary_monthly_BRUTO  salary_monthly_NETO  numero  \\\n",
              "0              300000.0             245000.0    True   \n",
              "1              900000.0             850000.0    True   \n",
              "\n",
              "                      salary_in_usd salary_last_dollar_value  \\\n",
              "0                               NaN                      NaN   \n",
              "1  Cobro todo el salario en dólares                      300   \n",
              "\n",
              "  salary_pay_cripto  ... profile_studies_level_state  \\\n",
              "0               NaN  ...                    Completo   \n",
              "1               NaN  ...                         NaN   \n",
              "\n",
              "                                  profile_career           profile_university  \\\n",
              "0  Licenciatura en redes y comunicación de datos  UP - Universidad de Palermo   \n",
              "1                                            NaN                          NaN   \n",
              "\n",
              "  profile_boot_camp profile_boot_camp_carrer work_on_call_duty  \\\n",
              "0               NaN                      NaN               NaN   \n",
              "1               NaN                      NaN               NaN   \n",
              "\n",
              "   salary_on_call_duty_charge work_on_call_duty_charge_type  profile_age  \\\n",
              "0                         NaN                           NaN           35   \n",
              "1                         NaN                           NaN           31   \n",
              "\n",
              "  profile_gender  \n",
              "0      Varón Cis  \n",
              "1      Varón Cis  \n",
              "\n",
              "[2 rows x 44 columns]"
            ],
            "text/html": [
              "\n",
              "  <div id=\"df-389573f8-8de8-4e0e-85d5-717b6aee8781\">\n",
              "    <div class=\"colab-df-container\">\n",
              "      <div>\n",
              "<style scoped>\n",
              "    .dataframe tbody tr th:only-of-type {\n",
              "        vertical-align: middle;\n",
              "    }\n",
              "\n",
              "    .dataframe tbody tr th {\n",
              "        vertical-align: top;\n",
              "    }\n",
              "\n",
              "    .dataframe thead th {\n",
              "        text-align: right;\n",
              "    }\n",
              "</style>\n",
              "<table border=\"1\" class=\"dataframe\">\n",
              "  <thead>\n",
              "    <tr style=\"text-align: right;\">\n",
              "      <th></th>\n",
              "      <th>work_country</th>\n",
              "      <th>work_province</th>\n",
              "      <th>work_dedication</th>\n",
              "      <th>work_contract_type</th>\n",
              "      <th>salary_monthly_BRUTO</th>\n",
              "      <th>salary_monthly_NETO</th>\n",
              "      <th>numero</th>\n",
              "      <th>salary_in_usd</th>\n",
              "      <th>salary_last_dollar_value</th>\n",
              "      <th>salary_pay_cripto</th>\n",
              "      <th>...</th>\n",
              "      <th>profile_studies_level_state</th>\n",
              "      <th>profile_career</th>\n",
              "      <th>profile_university</th>\n",
              "      <th>profile_boot_camp</th>\n",
              "      <th>profile_boot_camp_carrer</th>\n",
              "      <th>work_on_call_duty</th>\n",
              "      <th>salary_on_call_duty_charge</th>\n",
              "      <th>work_on_call_duty_charge_type</th>\n",
              "      <th>profile_age</th>\n",
              "      <th>profile_gender</th>\n",
              "    </tr>\n",
              "  </thead>\n",
              "  <tbody>\n",
              "    <tr>\n",
              "      <th>0</th>\n",
              "      <td>Argentina</td>\n",
              "      <td>Catamarca</td>\n",
              "      <td>Full-Time</td>\n",
              "      <td>Staff (planta permanente)</td>\n",
              "      <td>300000.0</td>\n",
              "      <td>245000.0</td>\n",
              "      <td>True</td>\n",
              "      <td>NaN</td>\n",
              "      <td>NaN</td>\n",
              "      <td>NaN</td>\n",
              "      <td>...</td>\n",
              "      <td>Completo</td>\n",
              "      <td>Licenciatura en redes y comunicación de datos</td>\n",
              "      <td>UP - Universidad de Palermo</td>\n",
              "      <td>NaN</td>\n",
              "      <td>NaN</td>\n",
              "      <td>NaN</td>\n",
              "      <td>NaN</td>\n",
              "      <td>NaN</td>\n",
              "      <td>35</td>\n",
              "      <td>Varón Cis</td>\n",
              "    </tr>\n",
              "    <tr>\n",
              "      <th>1</th>\n",
              "      <td>Argentina</td>\n",
              "      <td>Chaco</td>\n",
              "      <td>Full-Time</td>\n",
              "      <td>Remoto (empresa de otro país)</td>\n",
              "      <td>900000.0</td>\n",
              "      <td>850000.0</td>\n",
              "      <td>True</td>\n",
              "      <td>Cobro todo el salario en dólares</td>\n",
              "      <td>300</td>\n",
              "      <td>NaN</td>\n",
              "      <td>...</td>\n",
              "      <td>NaN</td>\n",
              "      <td>NaN</td>\n",
              "      <td>NaN</td>\n",
              "      <td>NaN</td>\n",
              "      <td>NaN</td>\n",
              "      <td>NaN</td>\n",
              "      <td>NaN</td>\n",
              "      <td>NaN</td>\n",
              "      <td>31</td>\n",
              "      <td>Varón Cis</td>\n",
              "    </tr>\n",
              "  </tbody>\n",
              "</table>\n",
              "<p>2 rows × 44 columns</p>\n",
              "</div>\n",
              "      <button class=\"colab-df-convert\" onclick=\"convertToInteractive('df-389573f8-8de8-4e0e-85d5-717b6aee8781')\"\n",
              "              title=\"Convert this dataframe to an interactive table.\"\n",
              "              style=\"display:none;\">\n",
              "        \n",
              "  <svg xmlns=\"http://www.w3.org/2000/svg\" height=\"24px\"viewBox=\"0 0 24 24\"\n",
              "       width=\"24px\">\n",
              "    <path d=\"M0 0h24v24H0V0z\" fill=\"none\"/>\n",
              "    <path d=\"M18.56 5.44l.94 2.06.94-2.06 2.06-.94-2.06-.94-.94-2.06-.94 2.06-2.06.94zm-11 1L8.5 8.5l.94-2.06 2.06-.94-2.06-.94L8.5 2.5l-.94 2.06-2.06.94zm10 10l.94 2.06.94-2.06 2.06-.94-2.06-.94-.94-2.06-.94 2.06-2.06.94z\"/><path d=\"M17.41 7.96l-1.37-1.37c-.4-.4-.92-.59-1.43-.59-.52 0-1.04.2-1.43.59L10.3 9.45l-7.72 7.72c-.78.78-.78 2.05 0 2.83L4 21.41c.39.39.9.59 1.41.59.51 0 1.02-.2 1.41-.59l7.78-7.78 2.81-2.81c.8-.78.8-2.07 0-2.86zM5.41 20L4 18.59l7.72-7.72 1.47 1.35L5.41 20z\"/>\n",
              "  </svg>\n",
              "      </button>\n",
              "      \n",
              "  <style>\n",
              "    .colab-df-container {\n",
              "      display:flex;\n",
              "      flex-wrap:wrap;\n",
              "      gap: 12px;\n",
              "    }\n",
              "\n",
              "    .colab-df-convert {\n",
              "      background-color: #E8F0FE;\n",
              "      border: none;\n",
              "      border-radius: 50%;\n",
              "      cursor: pointer;\n",
              "      display: none;\n",
              "      fill: #1967D2;\n",
              "      height: 32px;\n",
              "      padding: 0 0 0 0;\n",
              "      width: 32px;\n",
              "    }\n",
              "\n",
              "    .colab-df-convert:hover {\n",
              "      background-color: #E2EBFA;\n",
              "      box-shadow: 0px 1px 2px rgba(60, 64, 67, 0.3), 0px 1px 3px 1px rgba(60, 64, 67, 0.15);\n",
              "      fill: #174EA6;\n",
              "    }\n",
              "\n",
              "    [theme=dark] .colab-df-convert {\n",
              "      background-color: #3B4455;\n",
              "      fill: #D2E3FC;\n",
              "    }\n",
              "\n",
              "    [theme=dark] .colab-df-convert:hover {\n",
              "      background-color: #434B5C;\n",
              "      box-shadow: 0px 1px 3px 1px rgba(0, 0, 0, 0.15);\n",
              "      filter: drop-shadow(0px 1px 2px rgba(0, 0, 0, 0.3));\n",
              "      fill: #FFFFFF;\n",
              "    }\n",
              "  </style>\n",
              "\n",
              "      <script>\n",
              "        const buttonEl =\n",
              "          document.querySelector('#df-389573f8-8de8-4e0e-85d5-717b6aee8781 button.colab-df-convert');\n",
              "        buttonEl.style.display =\n",
              "          google.colab.kernel.accessAllowed ? 'block' : 'none';\n",
              "\n",
              "        async function convertToInteractive(key) {\n",
              "          const element = document.querySelector('#df-389573f8-8de8-4e0e-85d5-717b6aee8781');\n",
              "          const dataTable =\n",
              "            await google.colab.kernel.invokeFunction('convertToInteractive',\n",
              "                                                     [key], {});\n",
              "          if (!dataTable) return;\n",
              "\n",
              "          const docLinkHtml = 'Like what you see? Visit the ' +\n",
              "            '<a target=\"_blank\" href=https://colab.research.google.com/notebooks/data_table.ipynb>data table notebook</a>'\n",
              "            + ' to learn more about interactive tables.';\n",
              "          element.innerHTML = '';\n",
              "          dataTable['output_type'] = 'display_data';\n",
              "          await google.colab.output.renderOutput(dataTable, element);\n",
              "          const docLink = document.createElement('div');\n",
              "          docLink.innerHTML = docLinkHtml;\n",
              "          element.appendChild(docLink);\n",
              "        }\n",
              "      </script>\n",
              "    </div>\n",
              "  </div>\n",
              "  "
            ]
          },
          "metadata": {},
          "execution_count": 4
        }
      ]
    },
    {
      "cell_type": "code",
      "source": [
        "# Tipo de cada columna\n",
        "# En pandas, el tipo \"object\" hace referencia a strings\n",
        "# datos.dtypes\n",
        "df[['salary_monthly_NETO', 'salary_monthly_BRUTO']].info()"
      ],
      "metadata": {
        "colab": {
          "base_uri": "https://localhost:8080/"
        },
        "id": "5PENV7o2QfS9",
        "outputId": "3725d4a1-8898-4e4c-8851-2a55389ee591"
      },
      "execution_count": null,
      "outputs": [
        {
          "output_type": "stream",
          "name": "stdout",
          "text": [
            "<class 'pandas.core.frame.DataFrame'>\n",
            "RangeIndex: 5358 entries, 0 to 5357\n",
            "Data columns (total 2 columns):\n",
            " #   Column                Non-Null Count  Dtype  \n",
            "---  ------                --------------  -----  \n",
            " 0   salary_monthly_NETO   5358 non-null   float64\n",
            " 1   salary_monthly_BRUTO  5358 non-null   float64\n",
            "dtypes: float64(2)\n",
            "memory usage: 83.8 KB\n"
          ]
        }
      ]
    },
    {
      "cell_type": "markdown",
      "source": [
        "# **Estadistica descriptiva**"
      ],
      "metadata": {
        "id": "v8pdw_zatVqo"
      }
    },
    {
      "cell_type": "markdown",
      "source": [
        "El uso de visualizaciones nos limita a estimaciones, pero los datos crudos son demasiado como para intepretarlos en conjunto. Para eso, la estadística descriptiva provee también medidas de tendencia central y de dispersión, que resumen en un valor numérico propiedades de las realizaciones de la variable."
      ],
      "metadata": {
        "id": "66-PDJslZA_8"
      }
    },
    {
      "cell_type": "markdown",
      "source": [
        "# Medidas de tendencia central"
      ],
      "metadata": {
        "id": "Ni-6mY8TTyx0"
      }
    },
    {
      "cell_type": "code",
      "source": [
        "#mean:media muestral (aritmética) o promedio\n",
        "#mediana: medida de posicion central\n",
        "#moda: es el valor que aparece con mayor frecuencia\n",
        "pd.set_option('display.float_format',lambda x: '%.2f' % x)\n",
        "print('Media: ',df['salary_monthly_NETO'].mean())\n",
        "print('Mediana: ',df['salary_monthly_NETO'].median())\n",
        "print('Moda: ', df['salary_monthly_NETO'].mode())"
      ],
      "metadata": {
        "colab": {
          "base_uri": "https://localhost:8080/"
        },
        "id": "QGZbA2ZvZXXm",
        "outputId": "7e79111d-00ad-4751-ed3c-d69e9a8c8f2e"
      },
      "execution_count": null,
      "outputs": [
        {
          "output_type": "stream",
          "name": "stdout",
          "text": [
            "Media:  277010.78680309816\n",
            "Mediana:  201000.0\n",
            "Moda:  0   0.00\n",
            "Name: salary_monthly_NETO, dtype: float64\n"
          ]
        }
      ]
    },
    {
      "cell_type": "markdown",
      "source": [
        "¿Por qué las dos primeras medidas son tan distintas?\n",
        "\n",
        "*  La media se puede interpretar como el centro de masa del histograma.\n",
        "*  La media es muy sensible a valores extremos.\n",
        "*  La mediana es más robusta a valores extremos.\n",
        "\n",
        "Si la distribución de los datos es simétrica, las medidas coinciden. (Luego, si no coinciden es porque la distribución no es simétrica)"
      ],
      "metadata": {
        "id": "D-rz2IS5czex"
      }
    },
    {
      "cell_type": "markdown",
      "source": [
        "Respecto de la moda"
      ],
      "metadata": {
        "id": "ydkwTJ7Qu1wF"
      }
    },
    {
      "cell_type": "markdown",
      "source": [
        "La moda revela que el valor que mas se repite es el cero,  para evitar distorsiones debido a valores demasiado bajos, conviene eliminar todas aquellas entradas cuyo salario sea menor al salario mínimo."
      ],
      "metadata": {
        "id": "HVRZZhU-Lmn-"
      }
    },
    {
      "cell_type": "code",
      "source": [
        "## La diferencia no siempre se aprecia en los gráficos\n",
        "fig, axes = plt.subplots(nrows=2, figsize=(14, 8))\n",
        "#plt.ticklabel_format(style='plain', axis='x')\n",
        "sns.histplot(df['salary_monthly_NETO'], bins=100, ax=axes[0], color='gray')\n",
        "axes[0].axvline(df['salary_monthly_NETO'].mean(), color='orangered',\n",
        "            linestyle='--', label='Media')\n",
        "axes[0].axvline(df['salary_monthly_NETO'].median(), color='indigo',\n",
        "            linestyle='-.', label='Mediana')\n",
        "## Filtramos los valores por debajo de 200000 pesos\n",
        "filtered_df = df[df['salary_monthly_NETO'] < 200000]\n",
        "sns.histplot(filtered_df['salary_monthly_NETO'], bins=100, ax=axes[1], color='gray')\n",
        "axes[1].axvline(filtered_df['salary_monthly_NETO'].mean(), color='orangered',\n",
        "            linestyle='--', label='Media')\n",
        "axes[1].axvline(filtered_df['salary_monthly_NETO'].median(), color='indigo',\n",
        "            linestyle='-.', label='Mediana')\n",
        "\n",
        "axes[0].legend()\n",
        "sns.despine()"
      ],
      "metadata": {
        "colab": {
          "base_uri": "https://localhost:8080/",
          "height": 582
        },
        "id": "mkqekyLqoWD3",
        "outputId": "ffb2660d-0338-4c1a-e57d-de633e6694f1"
      },
      "execution_count": null,
      "outputs": [
        {
          "output_type": "display_data",
          "data": {
            "text/plain": [
              "<Figure size 1400x800 with 2 Axes>"
            ],
            "image/png": "[encoded data removed]"
          },
          "metadata": {}
        }
      ]
    },
    {
      "cell_type": "markdown",
      "source": [
        "La variable salary_monthly_NETO tiene una distribución asimétrica con una cola positiva debido a que, unas pocos salarios, tienen un precio muy superior a la media. Este tipo de distribución suele visualizarse mejor tras aplicar el logarítmica o la raíz cuadrada."
      ],
      "metadata": {
        "id": "FueASm0qJD87"
      }
    },
    {
      "cell_type": "markdown",
      "source": [
        "# Medidas de dispersión"
      ],
      "metadata": {
        "id": "8Rkp7pX0vvzb"
      }
    },
    {
      "cell_type": "markdown",
      "source": [
        "Las medidas de dispersión son la desviación estándar, la varianza, y el coeficiente de variación. También permiten representar con un número alguna propiedad de los datos.\n",
        "\n",
        "Por ejemplo, comparemos el salario neto con el salario bruto. A priori, ¿deberíamos ver alguna diferencia?"
      ],
      "metadata": {
        "id": "uPrlouE-v3mr"
      }
    },
    {
      "cell_type": "code",
      "source": [
        "df[['salary_monthly_NETO', 'salary_monthly_BRUTO']].describe().round()"
      ],
      "metadata": {
        "colab": {
          "base_uri": "https://localhost:8080/",
          "height": 300
        },
        "id": "rlXpTagpwNBa",
        "outputId": "5bac6fe9-5f56-4624-d3f0-e1c768e5274a"
      },
      "execution_count": null,
      "outputs": [
        {
          "output_type": "execute_result",
          "data": {
            "text/plain": [
              "       salary_monthly_NETO  salary_monthly_BRUTO\n",
              "count              5358.00               5358.00\n",
              "mean             277011.00             363511.00\n",
              "std              401942.00             543925.00\n",
              "min                   0.00                  0.00\n",
              "25%              118612.00             150000.00\n",
              "50%              201000.00             256000.00\n",
              "75%              294000.00             412657.00\n",
              "max            15000000.00           28000000.00"
            ],
            "text/html": [
              "\n",
              "  <div id=\"df-844fc80e-1bbc-4c5a-8516-b07911bb6f86\">\n",
              "    <div class=\"colab-df-container\">\n",
              "      <div>\n",
              "<style scoped>\n",
              "    .dataframe tbody tr th:only-of-type {\n",
              "        vertical-align: middle;\n",
              "    }\n",
              "\n",
              "    .dataframe tbody tr th {\n",
              "        vertical-align: top;\n",
              "    }\n",
              "\n",
              "    .dataframe thead th {\n",
              "        text-align: right;\n",
              "    }\n",
              "</style>\n",
              "<table border=\"1\" class=\"dataframe\">\n",
              "  <thead>\n",
              "    <tr style=\"text-align: right;\">\n",
              "      <th></th>\n",
              "      <th>salary_monthly_NETO</th>\n",
              "      <th>salary_monthly_BRUTO</th>\n",
              "    </tr>\n",
              "  </thead>\n",
              "  <tbody>\n",
              "    <tr>\n",
              "      <th>count</th>\n",
              "      <td>5358.00</td>\n",
              "      <td>5358.00</td>\n",
              "    </tr>\n",
              "    <tr>\n",
              "      <th>mean</th>\n",
              "      <td>277011.00</td>\n",
              "      <td>363511.00</td>\n",
              "    </tr>\n",
              "    <tr>\n",
              "      <th>std</th>\n",
              "      <td>401942.00</td>\n",
              "      <td>543925.00</td>\n",
              "    </tr>\n",
              "    <tr>\n",
              "      <th>min</th>\n",
              "      <td>0.00</td>\n",
              "      <td>0.00</td>\n",
              "    </tr>\n",
              "    <tr>\n",
              "      <th>25%</th>\n",
              "      <td>118612.00</td>\n",
              "      <td>150000.00</td>\n",
              "    </tr>\n",
              "    <tr>\n",
              "      <th>50%</th>\n",
              "      <td>201000.00</td>\n",
              "      <td>256000.00</td>\n",
              "    </tr>\n",
              "    <tr>\n",
              "      <th>75%</th>\n",
              "      <td>294000.00</td>\n",
              "      <td>412657.00</td>\n",
              "    </tr>\n",
              "    <tr>\n",
              "      <th>max</th>\n",
              "      <td>15000000.00</td>\n",
              "      <td>28000000.00</td>\n",
              "    </tr>\n",
              "  </tbody>\n",
              "</table>\n",
              "</div>\n",
              "      <button class=\"colab-df-convert\" onclick=\"convertToInteractive('df-844fc80e-1bbc-4c5a-8516-b07911bb6f86')\"\n",
              "              title=\"Convert this dataframe to an interactive table.\"\n",
              "              style=\"display:none;\">\n",
              "        \n",
              "  <svg xmlns=\"http://www.w3.org/2000/svg\" height=\"24px\"viewBox=\"0 0 24 24\"\n",
              "       width=\"24px\">\n",
              "    <path d=\"M0 0h24v24H0V0z\" fill=\"none\"/>\n",
              "    <path d=\"M18.56 5.44l.94 2.06.94-2.06 2.06-.94-2.06-.94-.94-2.06-.94 2.06-2.06.94zm-11 1L8.5 8.5l.94-2.06 2.06-.94-2.06-.94L8.5 2.5l-.94 2.06-2.06.94zm10 10l.94 2.06.94-2.06 2.06-.94-2.06-.94-.94-2.06-.94 2.06-2.06.94z\"/><path d=\"M17.41 7.96l-1.37-1.37c-.4-.4-.92-.59-1.43-.59-.52 0-1.04.2-1.43.59L10.3 9.45l-7.72 7.72c-.78.78-.78 2.05 0 2.83L4 21.41c.39.39.9.59 1.41.59.51 0 1.02-.2 1.41-.59l7.78-7.78 2.81-2.81c.8-.78.8-2.07 0-2.86zM5.41 20L4 18.59l7.72-7.72 1.47 1.35L5.41 20z\"/>\n",
              "  </svg>\n",
              "      </button>\n",
              "      \n",
              "  <style>\n",
              "    .colab-df-container {\n",
              "      display:flex;\n",
              "      flex-wrap:wrap;\n",
              "      gap: 12px;\n",
              "    }\n",
              "\n",
              "    .colab-df-convert {\n",
              "      background-color: #E8F0FE;\n",
              "      border: none;\n",
              "      border-radius: 50%;\n",
              "      cursor: pointer;\n",
              "      display: none;\n",
              "      fill: #1967D2;\n",
              "      height: 32px;\n",
              "      padding: 0 0 0 0;\n",
              "      width: 32px;\n",
              "    }\n",
              "\n",
              "    .colab-df-convert:hover {\n",
              "      background-color: #E2EBFA;\n",
              "      box-shadow: 0px 1px 2px rgba(60, 64, 67, 0.3), 0px 1px 3px 1px rgba(60, 64, 67, 0.15);\n",
              "      fill: #174EA6;\n",
              "    }\n",
              "\n",
              "    [theme=dark] .colab-df-convert {\n",
              "      background-color: #3B4455;\n",
              "      fill: #D2E3FC;\n",
              "    }\n",
              "\n",
              "    [theme=dark] .colab-df-convert:hover {\n",
              "      background-color: #434B5C;\n",
              "      box-shadow: 0px 1px 3px 1px rgba(0, 0, 0, 0.15);\n",
              "      filter: drop-shadow(0px 1px 2px rgba(0, 0, 0, 0.3));\n",
              "      fill: #FFFFFF;\n",
              "    }\n",
              "  </style>\n",
              "\n",
              "      <script>\n",
              "        const buttonEl =\n",
              "          document.querySelector('#df-844fc80e-1bbc-4c5a-8516-b07911bb6f86 button.colab-df-convert');\n",
              "        buttonEl.style.display =\n",
              "          google.colab.kernel.accessAllowed ? 'block' : 'none';\n",
              "\n",
              "        async function convertToInteractive(key) {\n",
              "          const element = document.querySelector('#df-844fc80e-1bbc-4c5a-8516-b07911bb6f86');\n",
              "          const dataTable =\n",
              "            await google.colab.kernel.invokeFunction('convertToInteractive',\n",
              "                                                     [key], {});\n",
              "          if (!dataTable) return;\n",
              "\n",
              "          const docLinkHtml = 'Like what you see? Visit the ' +\n",
              "            '<a target=\"_blank\" href=https://colab.research.google.com/notebooks/data_table.ipynb>data table notebook</a>'\n",
              "            + ' to learn more about interactive tables.';\n",
              "          element.innerHTML = '';\n",
              "          dataTable['output_type'] = 'display_data';\n",
              "          await google.colab.output.renderOutput(dataTable, element);\n",
              "          const docLink = document.createElement('div');\n",
              "          docLink.innerHTML = docLinkHtml;\n",
              "          element.appendChild(docLink);\n",
              "        }\n",
              "      </script>\n",
              "    </div>\n",
              "  </div>\n",
              "  "
            ]
          },
          "metadata": {},
          "execution_count": 14
        }
      ]
    },
    {
      "cell_type": "markdown",
      "source": [
        "Claramente, ambas distribuciones están centradas en valores distintos, pero ¿podemos decir algo sobre su dispersión?\n",
        "\n",
        "Cuando se comparan dos características diferentes (que pueden tener magnitudes diferentes) puede no ser conveniente comparar directamente los valores de las desviaciones estándar, sino que podemos usar el coeficiente de variación (desviación estándar dividida la media)."
      ],
      "metadata": {
        "id": "r7OuUWGEwknc"
      }
    },
    {
      "cell_type": "code",
      "source": [
        "print(\"Coeficiente de variación salario bruto\",\n",
        "      scipy.stats.variation(df.salary_monthly_BRUTO))\n",
        "print(\"Coeficiente de variación salario neto\",\n",
        "      scipy.stats.variation(df.salary_monthly_NETO.dropna()))"
      ],
      "metadata": {
        "colab": {
          "base_uri": "https://localhost:8080/"
        },
        "id": "AnTshGjkwmPP",
        "outputId": "4405634a-7584-4385-f03e-b893e27880e4"
      },
      "execution_count": null,
      "outputs": [
        {
          "output_type": "stream",
          "name": "stdout",
          "text": [
            "Coeficiente de variación salario bruto 1.4961731068408217\n",
            "Coeficiente de variación salario neto 1.450863314811162\n"
          ]
        }
      ]
    },
    {
      "cell_type": "markdown",
      "source": [
        "# Eliminación de valores extremos"
      ],
      "metadata": {
        "id": "saldLra_xkU2"
      }
    },
    {
      "cell_type": "markdown",
      "source": [
        "**Usando percentiles**\n",
        "\n",
        "Una forma conservadora de eliminar valores extremos que estén afectando a la media, el rango y las visualizaciones es seleccionar un cierto porcentaje más extremo. Para eso, usamos los percentiles.\n",
        "\n",
        "Podemos calcular los percentiles en ambos extremos de los registros para decidir cuales serían los más apropiados."
      ],
      "metadata": {
        "id": "vfAZaH5NtK2t"
      }
    },
    {
      "cell_type": "markdown",
      "source": [
        "Percentil K 10"
      ],
      "metadata": {
        "id": "2bNZ1qAwlJLa"
      }
    },
    {
      "cell_type": "code",
      "source": [
        "k =10\n",
        "percentil_10 = df['salary_monthly_NETO'].quantile(10 / 100)\n",
        "n_below = len(df[df['salary_monthly_NETO'] < percentil_10])\n",
        "n_above = len(df[df['salary_monthly_NETO'] > percentil_10])\n",
        "print('Percentil {} de la columna {}: {}'.format(k, 'salary_monthly_NETO', percentil_10))\n",
        "print('% de datos menor que percentil {}: {}'.format(k, n_below / len(df)))\n",
        "print('% de datos mayor que percentil {}: {}'.format(k, n_above / len(df)))"
      ],
      "metadata": {
        "colab": {
          "base_uri": "https://localhost:8080/"
        },
        "id": "5cTsAktBihND",
        "outputId": "9d4cbc81-b4c0-4637-c99f-f9cfddde15e5"
      },
      "execution_count": null,
      "outputs": [
        {
          "output_type": "stream",
          "name": "stdout",
          "text": [
            "Percentil 10 de la columna salary_monthly_NETO: 10350.000000000022\n",
            "% de datos menor que percentil 10: 0.10003732736095558\n",
            "% de datos mayor que percentil 10: 0.8999626726390444\n"
          ]
        }
      ]
    },
    {
      "cell_type": "code",
      "source": [
        "df['salary_monthly_NETO'].quantile([.15, .18, .19, .195, .198])"
      ],
      "metadata": {
        "colab": {
          "base_uri": "https://localhost:8080/"
        },
        "id": "0HT6YpMbk-IH",
        "outputId": "9f326bd7-353d-4b6f-aed4-ac409557d202"
      },
      "execution_count": null,
      "outputs": [
        {
          "output_type": "execute_result",
          "data": {
            "text/plain": [
              "0.15    80000.00\n",
              "0.18    92394.92\n",
              "0.19    97000.00\n",
              "0.20    99600.00\n",
              "0.20   100000.00\n",
              "Name: salary_monthly_NETO, dtype: float64"
            ]
          },
          "metadata": {},
          "execution_count": 18
        }
      ]
    },
    {
      "cell_type": "markdown",
      "source": [
        "Eliminamos los valores extremos por debajo del salario minimo aproximadamente."
      ],
      "metadata": {
        "id": "-ojNYQ8LseSk"
      }
    },
    {
      "cell_type": "code",
      "source": [
        "min_limit = df['salary_monthly_NETO'].quantile(.19)\n",
        "df=df[df['salary_monthly_NETO'] > min_limit]\n",
        "df.shape"
      ],
      "metadata": {
        "colab": {
          "base_uri": "https://localhost:8080/"
        },
        "id": "5snkvRW5yEie",
        "outputId": "6b0c87cb-db37-4c87-d3c5-3b6c053f13ef"
      },
      "execution_count": null,
      "outputs": [
        {
          "output_type": "execute_result",
          "data": {
            "text/plain": [
              "(4335, 44)"
            ]
          },
          "metadata": {},
          "execution_count": 19
        }
      ]
    },
    {
      "cell_type": "markdown",
      "source": [
        "Eliminando los valores extremos de los valores minimos, se modifican la medidas de tendencia central."
      ],
      "metadata": {
        "id": "wEPpDWK77PN8"
      }
    },
    {
      "cell_type": "code",
      "source": [
        "print('Media: ',df['salary_monthly_NETO'].mean())\n",
        "print('Mediana: ',df['salary_monthly_NETO'].median())\n",
        "print('Moda: ', df['salary_monthly_NETO'].mode())"
      ],
      "metadata": {
        "colab": {
          "base_uri": "https://localhost:8080/"
        },
        "id": "ZyBui5CW594B",
        "outputId": "73b5fde1-127f-4fc1-baf3-2a174806ce37"
      },
      "execution_count": null,
      "outputs": [
        {
          "output_type": "stream",
          "name": "stdout",
          "text": [
            "Media:  334261.5041014994\n",
            "Mediana:  230000.0\n",
            "Moda:  0   250000.00\n",
            "Name: salary_monthly_NETO, dtype: float64\n"
          ]
        }
      ]
    },
    {
      "cell_type": "markdown",
      "source": [
        "Analizamos los sueldos que superan a la media."
      ],
      "metadata": {
        "id": "-1C4rnv_DBH0"
      }
    },
    {
      "cell_type": "markdown",
      "source": [
        "Percentil K 90"
      ],
      "metadata": {
        "id": "8pLNBNBlmAWY"
      }
    },
    {
      "cell_type": "code",
      "source": [
        "k = 90\n",
        "percentile_90 = df['salary_monthly_NETO'].quantile(k / 100)\n",
        "n_below = len(df[df['salary_monthly_NETO'] < percentile_90])\n",
        "n_above = len(df[df['salary_monthly_NETO'] > percentile_90])\n",
        "print('Percentil {} de la columna {}: {}'.format(k, 'salary_monthly_NETO', percentile_90))\n",
        "print('% de datos menor que percentil {}: {}'.format(k, n_below / len(df)))\n",
        "print('% de datos mayor que percentil {}: {}'.format(k, n_above / len(df)))"
      ],
      "metadata": {
        "id": "zUitKy9WxnWj",
        "colab": {
          "base_uri": "https://localhost:8080/"
        },
        "outputId": "34ba72d1-0967-4603-f1b2-03d761023f39"
      },
      "execution_count": null,
      "outputs": [
        {
          "output_type": "stream",
          "name": "stdout",
          "text": [
            "Percentil 90 de la columna salary_monthly_NETO: 600000.0\n",
            "% de datos menor que percentil 90: 0.8975778546712803\n",
            "% de datos mayor que percentil 90: 0.09642445213379469\n"
          ]
        }
      ]
    },
    {
      "cell_type": "code",
      "source": [
        "df['salary_monthly_NETO'].quantile([.95, .98, .99, .995, .998])"
      ],
      "metadata": {
        "colab": {
          "base_uri": "https://localhost:8080/"
        },
        "id": "sn52NTsLtxNk",
        "outputId": "6963b452-9fe0-4cef-e9d7-30d88ad9ebb4"
      },
      "execution_count": null,
      "outputs": [
        {
          "output_type": "execute_result",
          "data": {
            "text/plain": [
              "0.95   1000000.00\n",
              "0.98   1500000.00\n",
              "0.99   2000000.00\n",
              "0.99   2400000.00\n",
              "1.00   2733200.00\n",
              "Name: salary_monthly_NETO, dtype: float64"
            ]
          },
          "metadata": {},
          "execution_count": 22
        }
      ]
    },
    {
      "cell_type": "markdown",
      "source": [
        "# Graficos "
      ],
      "metadata": {
        "id": "RzK9HlWimMzR"
      }
    },
    {
      "cell_type": "code",
      "source": [
        "#Grafico\n",
        "plt.figure(figsize=(12, 4))\n",
        "max_limit = df['salary_monthly_NETO'].quantile(.98)\n",
        "sns.boxenplot(x=df[df['salary_monthly_NETO'] < max_limit]['salary_monthly_NETO'])\n",
        "plt.ticklabel_format(style='plain', axis='x')"
      ],
      "metadata": {
        "colab": {
          "base_uri": "https://localhost:8080/",
          "height": 392
        },
        "id": "nS5LS2_nt7Ak",
        "outputId": "1d60616f-c72e-45cc-e10b-3c90abf947a1"
      },
      "execution_count": null,
      "outputs": [
        {
          "output_type": "display_data",
          "data": {
            "text/plain": [
              "<Figure size 1200x400 with 1 Axes>"
            ],
            "image/png": "[encoded data removed]"
          },
          "metadata": {}
        }
      ]
    },
    {
      "cell_type": "code",
      "source": [
        "fig, axes = plt.subplots(figsize=(12, 12), nrows=3)\n",
        "plt.ticklabel_format(style='plain', axis='x')\n",
        "max_limit = df['salary_monthly_NETO'].quantile(.98)\n",
        "data = df[df['salary_monthly_NETO'] < max_limit]['salary_monthly_NETO']\n",
        "sns.histplot(x=data, ax=axes[0])\n",
        "sns.boxplot(x=data, ax=axes[1])\n",
        "sns.boxenplot(x=data, ax=axes[2])\n"
      ],
      "metadata": {
        "colab": {
          "base_uri": "https://localhost:8080/",
          "height": 989
        },
        "id": "82WZtGxBt8E_",
        "outputId": "216795d0-a87c-4527-d8fd-5ca2182d0e55"
      },
      "execution_count": null,
      "outputs": [
        {
          "output_type": "execute_result",
          "data": {
            "text/plain": [
              "<Axes: xlabel='salary_monthly_NETO'>"
            ]
          },
          "metadata": {},
          "execution_count": 24
        },
        {
          "output_type": "display_data",
          "data": {
            "text/plain": [
              "<Figure size 1200x1200 with 3 Axes>"
            ],
            "image/png": "[encoded data removed]"
          },
          "metadata": {}
        }
      ]
    },
    {
      "cell_type": "markdown",
      "source": [
        "¿Quiénes son los que cobran tanto?"
      ],
      "metadata": {
        "id": "aovlqjGV7QRH"
      }
    },
    {
      "cell_type": "code",
      "source": [
        "df[df['salary_monthly_NETO'] > df['salary_monthly_NETO'].quantile(0.98)]\n"
      ],
      "metadata": {
        "colab": {
          "base_uri": "https://localhost:8080/",
          "height": 834
        },
        "id": "5BgiI3Q_CJIk",
        "outputId": "393eb663-e04f-4371-bba6-3752a94f488d"
      },
      "execution_count": null,
      "outputs": [
        {
          "output_type": "execute_result",
          "data": {
            "text/plain": [
              "     work_country                    work_province work_dedication  \\\n",
              "87      Argentina  Ciudad Autónoma de Buenos Aires       Full-Time   \n",
              "178     Argentina  Ciudad Autónoma de Buenos Aires       Full-Time   \n",
              "266     Argentina  Ciudad Autónoma de Buenos Aires       Full-Time   \n",
              "283     Argentina  Ciudad Autónoma de Buenos Aires       Full-Time   \n",
              "356     Argentina  Ciudad Autónoma de Buenos Aires       Full-Time   \n",
              "...           ...                              ...             ...   \n",
              "5181    Argentina                         Santa Fe       Full-Time   \n",
              "5184    Argentina                         Santa Fe       Full-Time   \n",
              "5185    Argentina                         Santa Fe       Full-Time   \n",
              "5186    Argentina                         Santa Fe       Full-Time   \n",
              "5223    Argentina                         Santa Fe       Full-Time   \n",
              "\n",
              "                                     work_contract_type  salary_monthly_BRUTO  \\\n",
              "87                                            Freelance            1700000.00   \n",
              "178                       Remoto (empresa de otro país)            1800000.00   \n",
              "266                       Remoto (empresa de otro país)            2000000.00   \n",
              "283                       Remoto (empresa de otro país)            2000000.00   \n",
              "356                           Staff (planta permanente)            1751000.00   \n",
              "...                                                 ...                   ...   \n",
              "5181                      Remoto (empresa de otro país)            2400000.00   \n",
              "5184                      Remoto (empresa de otro país)            2300000.00   \n",
              "5185                          Staff (planta permanente)            1600000.00   \n",
              "5186  Tercerizado (trabajo a través de consultora o ...            2520000.00   \n",
              "5223                      Remoto (empresa de otro país)            1814400.00   \n",
              "\n",
              "      salary_monthly_NETO  numero                     salary_in_usd  \\\n",
              "87             1700000.00    True  Cobro todo el salario en dólares   \n",
              "178            1750000.00    True  Cobro todo el salario en dólares   \n",
              "266            1900000.00    True  Cobro todo el salario en dólares   \n",
              "283            1800000.00    True  Cobro todo el salario en dólares   \n",
              "356            1751000.00    True  Cobro todo el salario en dólares   \n",
              "...                   ...     ...                               ...   \n",
              "5181           2000000.00    True  Cobro todo el salario en dólares   \n",
              "5184           2000000.00    True  Cobro todo el salario en dólares   \n",
              "5185           1600000.00    True  Cobro todo el salario en dólares   \n",
              "5186           2520000.00    True  Cobro todo el salario en dólares   \n",
              "5223           1814400.00    True  Cobro todo el salario en dólares   \n",
              "\n",
              "     salary_last_dollar_value                    salary_pay_cripto  ...  \\\n",
              "87                        350                                  NaN  ...   \n",
              "178                       230                                  NaN  ...   \n",
              "266                       NaN                                  NaN  ...   \n",
              "283                       NaN                                  NaN  ...   \n",
              "356                       NaN                                  NaN  ...   \n",
              "...                       ...                                  ...  ...   \n",
              "5181                      NaN                                  NaN  ...   \n",
              "5184                      NaN                                  NaN  ...   \n",
              "5185                      NaN  Cobro todo el salario criptomonedas  ...   \n",
              "5186                      NaN  Cobro todo el salario criptomonedas  ...   \n",
              "5223                      NaN                                  NaN  ...   \n",
              "\n",
              "     profile_studies_level_state                         profile_career  \\\n",
              "87                           NaN                                    NaN   \n",
              "178                          NaN                                    NaN   \n",
              "266                     En curso                         Diseño Gráfico   \n",
              "283                     Completo  Ingeniería en Sistemas de Información   \n",
              "356                          NaN                                    NaN   \n",
              "...                          ...                                    ...   \n",
              "5181                    Completo                   Analista de Sistemas   \n",
              "5184                    Completo            Licenciatura en Informática   \n",
              "5185                         NaN                                    NaN   \n",
              "5186                         NaN                                    NaN   \n",
              "5223                         NaN                                    NaN   \n",
              "\n",
              "                          profile_university profile_boot_camp  \\\n",
              "87                                       NaN               NaN   \n",
              "178                                      NaN               NaN   \n",
              "266        UBA - Universidad de Buenos Aires               NaN   \n",
              "283   UTN - Universidad Tecnológica Nacional               NaN   \n",
              "356                                      NaN               NaN   \n",
              "...                                      ...               ...   \n",
              "5181                                     NaN                No   \n",
              "5184                    Universidad Siglo 21               NaN   \n",
              "5185                                     NaN               NaN   \n",
              "5186                                     NaN               NaN   \n",
              "5223                                     NaN               NaN   \n",
              "\n",
              "     profile_boot_camp_carrer work_on_call_duty  salary_on_call_duty_charge  \\\n",
              "87                        NaN               NaN                         NaN   \n",
              "178                       NaN               NaN                         NaN   \n",
              "266                       NaN                No                        0.00   \n",
              "283                       NaN               NaN                         NaN   \n",
              "356                       NaN               NaN                         NaN   \n",
              "...                       ...               ...                         ...   \n",
              "5181                      NaN        Sí, activa                       50.00   \n",
              "5184                      NaN                No                        0.00   \n",
              "5185                      NaN               NaN                         NaN   \n",
              "5186                      NaN               NaN                         NaN   \n",
              "5223                      NaN               NaN                         NaN   \n",
              "\n",
              "      work_on_call_duty_charge_type  profile_age profile_gender  \n",
              "87                              NaN           30    Varón Trans  \n",
              "178                             NaN           44      Varón Cis  \n",
              "266   Porcentaje de mi sueldo bruto           23      Varón Cis  \n",
              "283                             NaN           25      Varón Cis  \n",
              "356                             NaN           35      Varón Cis  \n",
              "...                             ...          ...            ...  \n",
              "5181  Porcentaje de mi sueldo bruto           40      Varón Cis  \n",
              "5184  Porcentaje de mi sueldo bruto           42      Varón Cis  \n",
              "5185                            NaN           27      Varón Cis  \n",
              "5186                            NaN           32      Varón Cis  \n",
              "5223                            NaN           46      Varón cis  \n",
              "\n",
              "[77 rows x 44 columns]"
            ],
            "text/html": [
              "\n",
              "  <div id=\"df-637f1a74-01c9-486d-b56e-f3e725375ffe\">\n",
              "    <div class=\"colab-df-container\">\n",
              "      <div>\n",
              "<style scoped>\n",
              "    .dataframe tbody tr th:only-of-type {\n",
              "        vertical-align: middle;\n",
              "    }\n",
              "\n",
              "    .dataframe tbody tr th {\n",
              "        vertical-align: top;\n",
              "    }\n",
              "\n",
              "    .dataframe thead th {\n",
              "        text-align: right;\n",
              "    }\n",
              "</style>\n",
              "<table border=\"1\" class=\"dataframe\">\n",
              "  <thead>\n",
              "    <tr style=\"text-align: right;\">\n",
              "      <th></th>\n",
              "      <th>work_country</th>\n",
              "      <th>work_province</th>\n",
              "      <th>work_dedication</th>\n",
              "      <th>work_contract_type</th>\n",
              "      <th>salary_monthly_BRUTO</th>\n",
              "      <th>salary_monthly_NETO</th>\n",
              "      <th>numero</th>\n",
              "      <th>salary_in_usd</th>\n",
              "      <th>salary_last_dollar_value</th>\n",
              "      <th>salary_pay_cripto</th>\n",
              "      <th>...</th>\n",
              "      <th>profile_studies_level_state</th>\n",
              "      <th>profile_career</th>\n",
              "      <th>profile_university</th>\n",
              "      <th>profile_boot_camp</th>\n",
              "      <th>profile_boot_camp_carrer</th>\n",
              "      <th>work_on_call_duty</th>\n",
              "      <th>salary_on_call_duty_charge</th>\n",
              "      <th>work_on_call_duty_charge_type</th>\n",
              "      <th>profile_age</th>\n",
              "      <th>profile_gender</th>\n",
              "    </tr>\n",
              "  </thead>\n",
              "  <tbody>\n",
              "    <tr>\n",
              "      <th>87</th>\n",
              "      <td>Argentina</td>\n",
              "      <td>Ciudad Autónoma de Buenos Aires</td>\n",
              "      <td>Full-Time</td>\n",
              "      <td>Freelance</td>\n",
              "      <td>1700000.00</td>\n",
              "      <td>1700000.00</td>\n",
              "      <td>True</td>\n",
              "      <td>Cobro todo el salario en dólares</td>\n",
              "      <td>350</td>\n",
              "      <td>NaN</td>\n",
              "      <td>...</td>\n",
              "      <td>NaN</td>\n",
              "      <td>NaN</td>\n",
              "      <td>NaN</td>\n",
              "      <td>NaN</td>\n",
              "      <td>NaN</td>\n",
              "      <td>NaN</td>\n",
              "      <td>NaN</td>\n",
              "      <td>NaN</td>\n",
              "      <td>30</td>\n",
              "      <td>Varón Trans</td>\n",
              "    </tr>\n",
              "    <tr>\n",
              "      <th>178</th>\n",
              "      <td>Argentina</td>\n",
              "      <td>Ciudad Autónoma de Buenos Aires</td>\n",
              "      <td>Full-Time</td>\n",
              "      <td>Remoto (empresa de otro país)</td>\n",
              "      <td>1800000.00</td>\n",
              "      <td>1750000.00</td>\n",
              "      <td>True</td>\n",
              "      <td>Cobro todo el salario en dólares</td>\n",
              "      <td>230</td>\n",
              "      <td>NaN</td>\n",
              "      <td>...</td>\n",
              "      <td>NaN</td>\n",
              "      <td>NaN</td>\n",
              "      <td>NaN</td>\n",
              "      <td>NaN</td>\n",
              "      <td>NaN</td>\n",
              "      <td>NaN</td>\n",
              "      <td>NaN</td>\n",
              "      <td>NaN</td>\n",
              "      <td>44</td>\n",
              "      <td>Varón Cis</td>\n",
              "    </tr>\n",
              "    <tr>\n",
              "      <th>266</th>\n",
              "      <td>Argentina</td>\n",
              "      <td>Ciudad Autónoma de Buenos Aires</td>\n",
              "      <td>Full-Time</td>\n",
              "      <td>Remoto (empresa de otro país)</td>\n",
              "      <td>2000000.00</td>\n",
              "      <td>1900000.00</td>\n",
              "      <td>True</td>\n",
              "      <td>Cobro todo el salario en dólares</td>\n",
              "      <td>NaN</td>\n",
              "      <td>NaN</td>\n",
              "      <td>...</td>\n",
              "      <td>En curso</td>\n",
              "      <td>Diseño Gráfico</td>\n",
              "      <td>UBA - Universidad de Buenos Aires</td>\n",
              "      <td>NaN</td>\n",
              "      <td>NaN</td>\n",
              "      <td>No</td>\n",
              "      <td>0.00</td>\n",
              "      <td>Porcentaje de mi sueldo bruto</td>\n",
              "      <td>23</td>\n",
              "      <td>Varón Cis</td>\n",
              "    </tr>\n",
              "    <tr>\n",
              "      <th>283</th>\n",
              "      <td>Argentina</td>\n",
              "      <td>Ciudad Autónoma de Buenos Aires</td>\n",
              "      <td>Full-Time</td>\n",
              "      <td>Remoto (empresa de otro país)</td>\n",
              "      <td>2000000.00</td>\n",
              "      <td>1800000.00</td>\n",
              "      <td>True</td>\n",
              "      <td>Cobro todo el salario en dólares</td>\n",
              "      <td>NaN</td>\n",
              "      <td>NaN</td>\n",
              "      <td>...</td>\n",
              "      <td>Completo</td>\n",
              "      <td>Ingeniería en Sistemas de Información</td>\n",
              "      <td>UTN - Universidad Tecnológica Nacional</td>\n",
              "      <td>NaN</td>\n",
              "      <td>NaN</td>\n",
              "      <td>NaN</td>\n",
              "      <td>NaN</td>\n",
              "      <td>NaN</td>\n",
              "      <td>25</td>\n",
              "      <td>Varón Cis</td>\n",
              "    </tr>\n",
              "    <tr>\n",
              "      <th>356</th>\n",
              "      <td>Argentina</td>\n",
              "      <td>Ciudad Autónoma de Buenos Aires</td>\n",
              "      <td>Full-Time</td>\n",
              "      <td>Staff (planta permanente)</td>\n",
              "      <td>1751000.00</td>\n",
              "      <td>1751000.00</td>\n",
              "      <td>True</td>\n",
              "      <td>Cobro todo el salario en dólares</td>\n",
              "      <td>NaN</td>\n",
              "      <td>NaN</td>\n",
              "      <td>...</td>\n",
              "      <td>NaN</td>\n",
              "      <td>NaN</td>\n",
              "      <td>NaN</td>\n",
              "      <td>NaN</td>\n",
              "      <td>NaN</td>\n",
              "      <td>NaN</td>\n",
              "      <td>NaN</td>\n",
              "      <td>NaN</td>\n",
              "      <td>35</td>\n",
              "      <td>Varón Cis</td>\n",
              "    </tr>\n",
              "    <tr>\n",
              "      <th>...</th>\n",
              "      <td>...</td>\n",
              "      <td>...</td>\n",
              "      <td>...</td>\n",
              "      <td>...</td>\n",
              "      <td>...</td>\n",
              "      <td>...</td>\n",
              "      <td>...</td>\n",
              "      <td>...</td>\n",
              "      <td>...</td>\n",
              "      <td>...</td>\n",
              "      <td>...</td>\n",
              "      <td>...</td>\n",
              "      <td>...</td>\n",
              "      <td>...</td>\n",
              "      <td>...</td>\n",
              "      <td>...</td>\n",
              "      <td>...</td>\n",
              "      <td>...</td>\n",
              "      <td>...</td>\n",
              "      <td>...</td>\n",
              "      <td>...</td>\n",
              "    </tr>\n",
              "    <tr>\n",
              "      <th>5181</th>\n",
              "      <td>Argentina</td>\n",
              "      <td>Santa Fe</td>\n",
              "      <td>Full-Time</td>\n",
              "      <td>Remoto (empresa de otro país)</td>\n",
              "      <td>2400000.00</td>\n",
              "      <td>2000000.00</td>\n",
              "      <td>True</td>\n",
              "      <td>Cobro todo el salario en dólares</td>\n",
              "      <td>NaN</td>\n",
              "      <td>NaN</td>\n",
              "      <td>...</td>\n",
              "      <td>Completo</td>\n",
              "      <td>Analista de Sistemas</td>\n",
              "      <td>NaN</td>\n",
              "      <td>No</td>\n",
              "      <td>NaN</td>\n",
              "      <td>Sí, activa</td>\n",
              "      <td>50.00</td>\n",
              "      <td>Porcentaje de mi sueldo bruto</td>\n",
              "      <td>40</td>\n",
              "      <td>Varón Cis</td>\n",
              "    </tr>\n",
              "    <tr>\n",
              "      <th>5184</th>\n",
              "      <td>Argentina</td>\n",
              "      <td>Santa Fe</td>\n",
              "      <td>Full-Time</td>\n",
              "      <td>Remoto (empresa de otro país)</td>\n",
              "      <td>2300000.00</td>\n",
              "      <td>2000000.00</td>\n",
              "      <td>True</td>\n",
              "      <td>Cobro todo el salario en dólares</td>\n",
              "      <td>NaN</td>\n",
              "      <td>NaN</td>\n",
              "      <td>...</td>\n",
              "      <td>Completo</td>\n",
              "      <td>Licenciatura en Informática</td>\n",
              "      <td>Universidad Siglo 21</td>\n",
              "      <td>NaN</td>\n",
              "      <td>NaN</td>\n",
              "      <td>No</td>\n",
              "      <td>0.00</td>\n",
              "      <td>Porcentaje de mi sueldo bruto</td>\n",
              "      <td>42</td>\n",
              "      <td>Varón Cis</td>\n",
              "    </tr>\n",
              "    <tr>\n",
              "      <th>5185</th>\n",
              "      <td>Argentina</td>\n",
              "      <td>Santa Fe</td>\n",
              "      <td>Full-Time</td>\n",
              "      <td>Staff (planta permanente)</td>\n",
              "      <td>1600000.00</td>\n",
              "      <td>1600000.00</td>\n",
              "      <td>True</td>\n",
              "      <td>Cobro todo el salario en dólares</td>\n",
              "      <td>NaN</td>\n",
              "      <td>Cobro todo el salario criptomonedas</td>\n",
              "      <td>...</td>\n",
              "      <td>NaN</td>\n",
              "      <td>NaN</td>\n",
              "      <td>NaN</td>\n",
              "      <td>NaN</td>\n",
              "      <td>NaN</td>\n",
              "      <td>NaN</td>\n",
              "      <td>NaN</td>\n",
              "      <td>NaN</td>\n",
              "      <td>27</td>\n",
              "      <td>Varón Cis</td>\n",
              "    </tr>\n",
              "    <tr>\n",
              "      <th>5186</th>\n",
              "      <td>Argentina</td>\n",
              "      <td>Santa Fe</td>\n",
              "      <td>Full-Time</td>\n",
              "      <td>Tercerizado (trabajo a través de consultora o ...</td>\n",
              "      <td>2520000.00</td>\n",
              "      <td>2520000.00</td>\n",
              "      <td>True</td>\n",
              "      <td>Cobro todo el salario en dólares</td>\n",
              "      <td>NaN</td>\n",
              "      <td>Cobro todo el salario criptomonedas</td>\n",
              "      <td>...</td>\n",
              "      <td>NaN</td>\n",
              "      <td>NaN</td>\n",
              "      <td>NaN</td>\n",
              "      <td>NaN</td>\n",
              "      <td>NaN</td>\n",
              "      <td>NaN</td>\n",
              "      <td>NaN</td>\n",
              "      <td>NaN</td>\n",
              "      <td>32</td>\n",
              "      <td>Varón Cis</td>\n",
              "    </tr>\n",
              "    <tr>\n",
              "      <th>5223</th>\n",
              "      <td>Argentina</td>\n",
              "      <td>Santa Fe</td>\n",
              "      <td>Full-Time</td>\n",
              "      <td>Remoto (empresa de otro país)</td>\n",
              "      <td>1814400.00</td>\n",
              "      <td>1814400.00</td>\n",
              "      <td>True</td>\n",
              "      <td>Cobro todo el salario en dólares</td>\n",
              "      <td>NaN</td>\n",
              "      <td>NaN</td>\n",
              "      <td>...</td>\n",
              "      <td>NaN</td>\n",
              "      <td>NaN</td>\n",
              "      <td>NaN</td>\n",
              "      <td>NaN</td>\n",
              "      <td>NaN</td>\n",
              "      <td>NaN</td>\n",
              "      <td>NaN</td>\n",
              "      <td>NaN</td>\n",
              "      <td>46</td>\n",
              "      <td>Varón cis</td>\n",
              "    </tr>\n",
              "  </tbody>\n",
              "</table>\n",
              "<p>77 rows × 44 columns</p>\n",
              "</div>\n",
              "      <button class=\"colab-df-convert\" onclick=\"convertToInteractive('df-637f1a74-01c9-486d-b56e-f3e725375ffe')\"\n",
              "              title=\"Convert this dataframe to an interactive table.\"\n",
              "              style=\"display:none;\">\n",
              "        \n",
              "  <svg xmlns=\"http://www.w3.org/2000/svg\" height=\"24px\"viewBox=\"0 0 24 24\"\n",
              "       width=\"24px\">\n",
              "    <path d=\"M0 0h24v24H0V0z\" fill=\"none\"/>\n",
              "    <path d=\"M18.56 5.44l.94 2.06.94-2.06 2.06-.94-2.06-.94-.94-2.06-.94 2.06-2.06.94zm-11 1L8.5 8.5l.94-2.06 2.06-.94-2.06-.94L8.5 2.5l-.94 2.06-2.06.94zm10 10l.94 2.06.94-2.06 2.06-.94-2.06-.94-.94-2.06-.94 2.06-2.06.94z\"/><path d=\"M17.41 7.96l-1.37-1.37c-.4-.4-.92-.59-1.43-.59-.52 0-1.04.2-1.43.59L10.3 9.45l-7.72 7.72c-.78.78-.78 2.05 0 2.83L4 21.41c.39.39.9.59 1.41.59.51 0 1.02-.2 1.41-.59l7.78-7.78 2.81-2.81c.8-.78.8-2.07 0-2.86zM5.41 20L4 18.59l7.72-7.72 1.47 1.35L5.41 20z\"/>\n",
              "  </svg>\n",
              "      </button>\n",
              "      \n",
              "  <style>\n",
              "    .colab-df-container {\n",
              "      display:flex;\n",
              "      flex-wrap:wrap;\n",
              "      gap: 12px;\n",
              "    }\n",
              "\n",
              "    .colab-df-convert {\n",
              "      background-color: #E8F0FE;\n",
              "      border: none;\n",
              "      border-radius: 50%;\n",
              "      cursor: pointer;\n",
              "      display: none;\n",
              "      fill: #1967D2;\n",
              "      height: 32px;\n",
              "      padding: 0 0 0 0;\n",
              "      width: 32px;\n",
              "    }\n",
              "\n",
              "    .colab-df-convert:hover {\n",
              "      background-color: #E2EBFA;\n",
              "      box-shadow: 0px 1px 2px rgba(60, 64, 67, 0.3), 0px 1px 3px 1px rgba(60, 64, 67, 0.15);\n",
              "      fill: #174EA6;\n",
              "    }\n",
              "\n",
              "    [theme=dark] .colab-df-convert {\n",
              "      background-color: #3B4455;\n",
              "      fill: #D2E3FC;\n",
              "    }\n",
              "\n",
              "    [theme=dark] .colab-df-convert:hover {\n",
              "      background-color: #434B5C;\n",
              "      box-shadow: 0px 1px 3px 1px rgba(0, 0, 0, 0.15);\n",
              "      filter: drop-shadow(0px 1px 2px rgba(0, 0, 0, 0.3));\n",
              "      fill: #FFFFFF;\n",
              "    }\n",
              "  </style>\n",
              "\n",
              "      <script>\n",
              "        const buttonEl =\n",
              "          document.querySelector('#df-637f1a74-01c9-486d-b56e-f3e725375ffe button.colab-df-convert');\n",
              "        buttonEl.style.display =\n",
              "          google.colab.kernel.accessAllowed ? 'block' : 'none';\n",
              "\n",
              "        async function convertToInteractive(key) {\n",
              "          const element = document.querySelector('#df-637f1a74-01c9-486d-b56e-f3e725375ffe');\n",
              "          const dataTable =\n",
              "            await google.colab.kernel.invokeFunction('convertToInteractive',\n",
              "                                                     [key], {});\n",
              "          if (!dataTable) return;\n",
              "\n",
              "          const docLinkHtml = 'Like what you see? Visit the ' +\n",
              "            '<a target=\"_blank\" href=https://colab.research.google.com/notebooks/data_table.ipynb>data table notebook</a>'\n",
              "            + ' to learn more about interactive tables.';\n",
              "          element.innerHTML = '';\n",
              "          dataTable['output_type'] = 'display_data';\n",
              "          await google.colab.output.renderOutput(dataTable, element);\n",
              "          const docLink = document.createElement('div');\n",
              "          docLink.innerHTML = docLinkHtml;\n",
              "          element.appendChild(docLink);\n",
              "        }\n",
              "      </script>\n",
              "    </div>\n",
              "  </div>\n",
              "  "
            ]
          },
          "metadata": {},
          "execution_count": 25
        }
      ]
    },
    {
      "cell_type": "markdown",
      "source": [
        "# Posiciones que mas cobran"
      ],
      "metadata": {
        "id": "GMhAeD07wj0D"
      }
    },
    {
      "cell_type": "code",
      "source": [
        "plt.figure(figsize=(12, 4))\n",
        "sns.barplot(data=df[df['salary_monthly_NETO'] > max_limit].sort_values('salary_monthly_NETO',ascending=False),y='Trabajo de',x='salary_monthly_NETO',errorbar=None,palette= \"Reds_r\")\n",
        "plt.ticklabel_format(style='plain', axis='x')"
      ],
      "metadata": {
        "colab": {
          "base_uri": "https://localhost:8080/",
          "height": 331
        },
        "id": "Og22yGE5sbhm",
        "outputId": "48f2b8a1-616a-422c-cbfe-c1591f97cde0"
      },
      "execution_count": null,
      "outputs": [
        {
          "output_type": "display_data",
          "data": {
            "text/plain": [
              "<Figure size 1200x400 with 1 Axes>"
            ],
            "image/png": "[encoded data removed]"
          },
          "metadata": {}
        }
      ]
    },
    {
      "cell_type": "markdown",
      "source": [
        "# Tipos de contratos de los que mas cobran"
      ],
      "metadata": {
        "id": "oGvNiuERc30j"
      }
    },
    {
      "cell_type": "code",
      "source": [
        "plt.figure(figsize=(12, 4))\n",
        "sns.barplot(data=df[df['salary_monthly_NETO'] > max_limit].sort_values('salary_monthly_NETO',ascending=False),y='work_contract_type',x='salary_monthly_NETO',errorbar=None,palette= \"Reds_r\")\n",
        "plt.ticklabel_format(style='plain', axis='x')"
      ],
      "metadata": {
        "colab": {
          "base_uri": "https://localhost:8080/",
          "height": 285
        },
        "id": "n0Mo8MI5Xanj",
        "outputId": "e7463f61-1f59-4059-a043-f6bea97fd5fa"
      },
      "execution_count": null,
      "outputs": [
        {
          "output_type": "display_data",
          "data": {
            "text/plain": [
              "<Figure size 1200x400 with 1 Axes>"
            ],
            "image/png": "[encoded data removed]"
          },
          "metadata": {}
        }
      ]
    }
  ]
}